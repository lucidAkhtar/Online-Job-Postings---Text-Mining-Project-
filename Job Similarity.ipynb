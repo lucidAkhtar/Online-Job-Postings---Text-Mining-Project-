{
 "cells": [
  {
   "cell_type": "code",
   "execution_count": 1,
   "metadata": {},
   "outputs": [],
   "source": [
    "import numpy as np\n",
    "import pandas as pd\n",
    "import matplotlib.pyplot as plt\n",
    "import seaborn as sns\n",
    "%matplotlib inline\n",
    "%config Completer.use_jedi=False\n",
    "\n",
    "import json\n",
    "import tqdm\n",
    "import re\n",
    "import string\n",
    "\n",
    "import nltk\n",
    "from nltk import word_tokenize, FreqDist\n",
    "from nltk.corpus import stopwords\n",
    "from sklearn.feature_extraction.text import TfidfVectorizer\n",
    "from nltk.stem.porter import PorterStemmer\n",
    "import spacy\n",
    "\n",
    "from sklearn.metrics.pairwise import cosine_similarity\n",
    "import scipy\n"
   ]
  },
  {
   "cell_type": "code",
   "execution_count": 2,
   "metadata": {},
   "outputs": [],
   "source": [
    "stop_words = set(stopwords.words('english'))"
   ]
  },
  {
   "cell_type": "code",
   "execution_count": 3,
   "metadata": {},
   "outputs": [
    {
     "data": {
      "text/html": [
       "<div>\n",
       "<style scoped>\n",
       "    .dataframe tbody tr th:only-of-type {\n",
       "        vertical-align: middle;\n",
       "    }\n",
       "\n",
       "    .dataframe tbody tr th {\n",
       "        vertical-align: top;\n",
       "    }\n",
       "\n",
       "    .dataframe thead th {\n",
       "        text-align: right;\n",
       "    }\n",
       "</style>\n",
       "<table border=\"1\" class=\"dataframe\">\n",
       "  <thead>\n",
       "    <tr style=\"text-align: right;\">\n",
       "      <th></th>\n",
       "      <th>jobpost</th>\n",
       "      <th>date</th>\n",
       "      <th>Title</th>\n",
       "      <th>Company</th>\n",
       "      <th>AnnouncementCode</th>\n",
       "      <th>Term</th>\n",
       "      <th>Eligibility</th>\n",
       "      <th>Audience</th>\n",
       "      <th>StartDate</th>\n",
       "      <th>Duration</th>\n",
       "      <th>...</th>\n",
       "      <th>Salary</th>\n",
       "      <th>ApplicationP</th>\n",
       "      <th>OpeningDate</th>\n",
       "      <th>Deadline</th>\n",
       "      <th>Notes</th>\n",
       "      <th>AboutC</th>\n",
       "      <th>Attach</th>\n",
       "      <th>Year</th>\n",
       "      <th>Month</th>\n",
       "      <th>IT</th>\n",
       "    </tr>\n",
       "  </thead>\n",
       "  <tbody>\n",
       "    <tr>\n",
       "      <th>0</th>\n",
       "      <td>AMERIA Investment Consulting Company\\nJOB TITL...</td>\n",
       "      <td>Jan 5, 2004</td>\n",
       "      <td>Chief Financial Officer</td>\n",
       "      <td>AMERIA Investment Consulting Company</td>\n",
       "      <td>NaN</td>\n",
       "      <td>NaN</td>\n",
       "      <td>NaN</td>\n",
       "      <td>NaN</td>\n",
       "      <td>NaN</td>\n",
       "      <td>NaN</td>\n",
       "      <td>...</td>\n",
       "      <td>NaN</td>\n",
       "      <td>To apply for this position, please submit a\\nc...</td>\n",
       "      <td>NaN</td>\n",
       "      <td>26 January 2004</td>\n",
       "      <td>NaN</td>\n",
       "      <td>NaN</td>\n",
       "      <td>NaN</td>\n",
       "      <td>2004</td>\n",
       "      <td>1</td>\n",
       "      <td>False</td>\n",
       "    </tr>\n",
       "    <tr>\n",
       "      <th>1</th>\n",
       "      <td>International Research &amp; Exchanges Board (IREX...</td>\n",
       "      <td>Jan 7, 2004</td>\n",
       "      <td>Full-time Community Connections Intern (paid i...</td>\n",
       "      <td>International Research &amp; Exchanges Board (IREX)</td>\n",
       "      <td>NaN</td>\n",
       "      <td>NaN</td>\n",
       "      <td>NaN</td>\n",
       "      <td>NaN</td>\n",
       "      <td>NaN</td>\n",
       "      <td>3 months</td>\n",
       "      <td>...</td>\n",
       "      <td>NaN</td>\n",
       "      <td>Please submit a cover letter and resume to:\\nI...</td>\n",
       "      <td>NaN</td>\n",
       "      <td>12 January 2004</td>\n",
       "      <td>NaN</td>\n",
       "      <td>The International Research &amp; Exchanges Board (...</td>\n",
       "      <td>NaN</td>\n",
       "      <td>2004</td>\n",
       "      <td>1</td>\n",
       "      <td>False</td>\n",
       "    </tr>\n",
       "    <tr>\n",
       "      <th>2</th>\n",
       "      <td>Caucasus Environmental NGO Network (CENN)\\nJOB...</td>\n",
       "      <td>Jan 7, 2004</td>\n",
       "      <td>Country Coordinator</td>\n",
       "      <td>Caucasus Environmental NGO Network (CENN)</td>\n",
       "      <td>NaN</td>\n",
       "      <td>NaN</td>\n",
       "      <td>NaN</td>\n",
       "      <td>NaN</td>\n",
       "      <td>NaN</td>\n",
       "      <td>Renewable annual contract\\nPOSITION</td>\n",
       "      <td>...</td>\n",
       "      <td>NaN</td>\n",
       "      <td>Please send resume or CV toursula.kazarian@......</td>\n",
       "      <td>NaN</td>\n",
       "      <td>20 January 2004\\nSTART DATE:  February 2004</td>\n",
       "      <td>NaN</td>\n",
       "      <td>The Caucasus Environmental NGO Network is a\\nn...</td>\n",
       "      <td>NaN</td>\n",
       "      <td>2004</td>\n",
       "      <td>1</td>\n",
       "      <td>False</td>\n",
       "    </tr>\n",
       "    <tr>\n",
       "      <th>3</th>\n",
       "      <td>Manoff Group\\nJOB TITLE:  BCC Specialist\\nPOSI...</td>\n",
       "      <td>Jan 7, 2004</td>\n",
       "      <td>BCC Specialist</td>\n",
       "      <td>Manoff Group</td>\n",
       "      <td>NaN</td>\n",
       "      <td>NaN</td>\n",
       "      <td>NaN</td>\n",
       "      <td>NaN</td>\n",
       "      <td>NaN</td>\n",
       "      <td>NaN</td>\n",
       "      <td>...</td>\n",
       "      <td>NaN</td>\n",
       "      <td>Please send cover letter and resume to Amy\\nPe...</td>\n",
       "      <td>NaN</td>\n",
       "      <td>23 January 2004\\nSTART DATE:  Immediate</td>\n",
       "      <td>NaN</td>\n",
       "      <td>NaN</td>\n",
       "      <td>NaN</td>\n",
       "      <td>2004</td>\n",
       "      <td>1</td>\n",
       "      <td>False</td>\n",
       "    </tr>\n",
       "    <tr>\n",
       "      <th>4</th>\n",
       "      <td>Yerevan Brandy Company\\nJOB TITLE:  Software D...</td>\n",
       "      <td>Jan 10, 2004</td>\n",
       "      <td>Software Developer</td>\n",
       "      <td>Yerevan Brandy Company</td>\n",
       "      <td>NaN</td>\n",
       "      <td>NaN</td>\n",
       "      <td>NaN</td>\n",
       "      <td>NaN</td>\n",
       "      <td>NaN</td>\n",
       "      <td>NaN</td>\n",
       "      <td>...</td>\n",
       "      <td>NaN</td>\n",
       "      <td>Successful candidates should submit\\n- CV; \\n-...</td>\n",
       "      <td>NaN</td>\n",
       "      <td>20 January 2004, 18:00</td>\n",
       "      <td>NaN</td>\n",
       "      <td>NaN</td>\n",
       "      <td>NaN</td>\n",
       "      <td>2004</td>\n",
       "      <td>1</td>\n",
       "      <td>True</td>\n",
       "    </tr>\n",
       "  </tbody>\n",
       "</table>\n",
       "<p>5 rows × 24 columns</p>\n",
       "</div>"
      ],
      "text/plain": [
       "                                             jobpost          date  \\\n",
       "0  AMERIA Investment Consulting Company\\nJOB TITL...   Jan 5, 2004   \n",
       "1  International Research & Exchanges Board (IREX...   Jan 7, 2004   \n",
       "2  Caucasus Environmental NGO Network (CENN)\\nJOB...   Jan 7, 2004   \n",
       "3  Manoff Group\\nJOB TITLE:  BCC Specialist\\nPOSI...   Jan 7, 2004   \n",
       "4  Yerevan Brandy Company\\nJOB TITLE:  Software D...  Jan 10, 2004   \n",
       "\n",
       "                                               Title  \\\n",
       "0                            Chief Financial Officer   \n",
       "1  Full-time Community Connections Intern (paid i...   \n",
       "2                                Country Coordinator   \n",
       "3                                     BCC Specialist   \n",
       "4                                 Software Developer   \n",
       "\n",
       "                                           Company AnnouncementCode Term  \\\n",
       "0             AMERIA Investment Consulting Company              NaN  NaN   \n",
       "1  International Research & Exchanges Board (IREX)              NaN  NaN   \n",
       "2        Caucasus Environmental NGO Network (CENN)              NaN  NaN   \n",
       "3                                     Manoff Group              NaN  NaN   \n",
       "4                           Yerevan Brandy Company              NaN  NaN   \n",
       "\n",
       "  Eligibility Audience StartDate                             Duration  ...    \\\n",
       "0         NaN      NaN       NaN                                  NaN  ...     \n",
       "1         NaN      NaN       NaN                             3 months  ...     \n",
       "2         NaN      NaN       NaN  Renewable annual contract\\nPOSITION  ...     \n",
       "3         NaN      NaN       NaN                                  NaN  ...     \n",
       "4         NaN      NaN       NaN                                  NaN  ...     \n",
       "\n",
       "  Salary                                       ApplicationP OpeningDate  \\\n",
       "0    NaN  To apply for this position, please submit a\\nc...         NaN   \n",
       "1    NaN  Please submit a cover letter and resume to:\\nI...         NaN   \n",
       "2    NaN  Please send resume or CV toursula.kazarian@......         NaN   \n",
       "3    NaN  Please send cover letter and resume to Amy\\nPe...         NaN   \n",
       "4    NaN  Successful candidates should submit\\n- CV; \\n-...         NaN   \n",
       "\n",
       "                                      Deadline Notes  \\\n",
       "0                              26 January 2004   NaN   \n",
       "1                              12 January 2004   NaN   \n",
       "2  20 January 2004\\nSTART DATE:  February 2004   NaN   \n",
       "3      23 January 2004\\nSTART DATE:  Immediate   NaN   \n",
       "4                       20 January 2004, 18:00   NaN   \n",
       "\n",
       "                                              AboutC Attach  Year Month     IT  \n",
       "0                                                NaN    NaN  2004     1  False  \n",
       "1  The International Research & Exchanges Board (...    NaN  2004     1  False  \n",
       "2  The Caucasus Environmental NGO Network is a\\nn...    NaN  2004     1  False  \n",
       "3                                                NaN    NaN  2004     1  False  \n",
       "4                                                NaN    NaN  2004     1   True  \n",
       "\n",
       "[5 rows x 24 columns]"
      ]
     },
     "execution_count": 3,
     "metadata": {},
     "output_type": "execute_result"
    }
   ],
   "source": [
    "data = pd.read_csv(r\"E:\\DSP\\DSP_22nd Nov\\Machine Learning\\FInal Class\\Case Studies & FInal Projects\\6\\data job posts.csv\")\n",
    "data.head()"
   ]
  },
  {
   "cell_type": "code",
   "execution_count": 4,
   "metadata": {},
   "outputs": [
    {
     "data": {
      "text/plain": [
       "(19001, 24)"
      ]
     },
     "execution_count": 4,
     "metadata": {},
     "output_type": "execute_result"
    }
   ],
   "source": [
    "data.shape"
   ]
  },
  {
   "cell_type": "code",
   "execution_count": 5,
   "metadata": {},
   "outputs": [],
   "source": [
    "data = data.drop_duplicates([\"jobpost\",\"Title\"])"
   ]
  },
  {
   "cell_type": "code",
   "execution_count": 6,
   "metadata": {},
   "outputs": [
    {
     "data": {
      "text/plain": [
       "(18892, 24)"
      ]
     },
     "execution_count": 6,
     "metadata": {},
     "output_type": "execute_result"
    }
   ],
   "source": [
    "data.shape"
   ]
  },
  {
   "cell_type": "markdown",
   "metadata": {},
   "source": [
    "### Choosing Selective Columns"
   ]
  },
  {
   "cell_type": "code",
   "execution_count": 7,
   "metadata": {},
   "outputs": [],
   "source": [
    "# Selecting only those columns which will be needed to evaluate the JOb similarity based on Cosine similarity scores\n",
    "data_job_related = data[['Title','JobDescription','RequiredQual','JobRequirment']]"
   ]
  },
  {
   "cell_type": "code",
   "execution_count": 8,
   "metadata": {},
   "outputs": [
    {
     "data": {
      "text/html": [
       "<div>\n",
       "<style scoped>\n",
       "    .dataframe tbody tr th:only-of-type {\n",
       "        vertical-align: middle;\n",
       "    }\n",
       "\n",
       "    .dataframe tbody tr th {\n",
       "        vertical-align: top;\n",
       "    }\n",
       "\n",
       "    .dataframe thead th {\n",
       "        text-align: right;\n",
       "    }\n",
       "</style>\n",
       "<table border=\"1\" class=\"dataframe\">\n",
       "  <thead>\n",
       "    <tr style=\"text-align: right;\">\n",
       "      <th></th>\n",
       "      <th>Title</th>\n",
       "      <th>JobDescription</th>\n",
       "      <th>RequiredQual</th>\n",
       "      <th>JobRequirment</th>\n",
       "    </tr>\n",
       "  </thead>\n",
       "  <tbody>\n",
       "    <tr>\n",
       "      <th>0</th>\n",
       "      <td>Chief Financial Officer</td>\n",
       "      <td>AMERIA Investment Consulting Company is seekin...</td>\n",
       "      <td>To perform this job successfully, an\\nindividu...</td>\n",
       "      <td>- Supervises financial management and administ...</td>\n",
       "    </tr>\n",
       "    <tr>\n",
       "      <th>1</th>\n",
       "      <td>Full-time Community Connections Intern (paid i...</td>\n",
       "      <td>NaN</td>\n",
       "      <td>- Bachelor's Degree; Master's is preferred;\\n-...</td>\n",
       "      <td>NaN</td>\n",
       "    </tr>\n",
       "    <tr>\n",
       "      <th>2</th>\n",
       "      <td>Country Coordinator</td>\n",
       "      <td>Public outreach and strengthening of a growing...</td>\n",
       "      <td>- Degree in environmentally related field, or ...</td>\n",
       "      <td>- Working with the Country Director to provide...</td>\n",
       "    </tr>\n",
       "    <tr>\n",
       "      <th>3</th>\n",
       "      <td>BCC Specialist</td>\n",
       "      <td>The LEAD (Local Enhancement and Development fo...</td>\n",
       "      <td>- Advanced degree in public health, social sci...</td>\n",
       "      <td>- Identify gaps in knowledge and overseeing in...</td>\n",
       "    </tr>\n",
       "    <tr>\n",
       "      <th>4</th>\n",
       "      <td>Software Developer</td>\n",
       "      <td>NaN</td>\n",
       "      <td>- University degree; economical background is ...</td>\n",
       "      <td>- Rendering technical assistance to Database M...</td>\n",
       "    </tr>\n",
       "  </tbody>\n",
       "</table>\n",
       "</div>"
      ],
      "text/plain": [
       "                                               Title  \\\n",
       "0                            Chief Financial Officer   \n",
       "1  Full-time Community Connections Intern (paid i...   \n",
       "2                                Country Coordinator   \n",
       "3                                     BCC Specialist   \n",
       "4                                 Software Developer   \n",
       "\n",
       "                                      JobDescription  \\\n",
       "0  AMERIA Investment Consulting Company is seekin...   \n",
       "1                                                NaN   \n",
       "2  Public outreach and strengthening of a growing...   \n",
       "3  The LEAD (Local Enhancement and Development fo...   \n",
       "4                                                NaN   \n",
       "\n",
       "                                        RequiredQual  \\\n",
       "0  To perform this job successfully, an\\nindividu...   \n",
       "1  - Bachelor's Degree; Master's is preferred;\\n-...   \n",
       "2  - Degree in environmentally related field, or ...   \n",
       "3  - Advanced degree in public health, social sci...   \n",
       "4  - University degree; economical background is ...   \n",
       "\n",
       "                                       JobRequirment  \n",
       "0  - Supervises financial management and administ...  \n",
       "1                                                NaN  \n",
       "2  - Working with the Country Director to provide...  \n",
       "3  - Identify gaps in knowledge and overseeing in...  \n",
       "4  - Rendering technical assistance to Database M...  "
      ]
     },
     "execution_count": 8,
     "metadata": {},
     "output_type": "execute_result"
    }
   ],
   "source": [
    "data_job_related.head()"
   ]
  },
  {
   "cell_type": "code",
   "execution_count": 9,
   "metadata": {},
   "outputs": [
    {
     "data": {
      "text/plain": [
       "(18892, 4)"
      ]
     },
     "execution_count": 9,
     "metadata": {},
     "output_type": "execute_result"
    }
   ],
   "source": [
    "data_job_related.shape"
   ]
  },
  {
   "cell_type": "code",
   "execution_count": 12,
   "metadata": {},
   "outputs": [
    {
     "name": "stderr",
     "output_type": "stream",
     "text": [
      "C:\\Users\\Akhtar\\Anaconda3\\lib\\site-packages\\pandas\\core\\generic.py:4405: SettingWithCopyWarning: \n",
      "A value is trying to be set on a copy of a slice from a DataFrame.\n",
      "Try using .loc[row_indexer,col_indexer] = value instead\n",
      "\n",
      "See the caveats in the documentation: http://pandas.pydata.org/pandas-docs/stable/indexing.html#indexing-view-versus-copy\n",
      "  self[name] = value\n"
     ]
    }
   ],
   "source": [
    "data_job_related.Title = data_job_related.Title.astype(str)\n",
    "data_job_related.JobDescription = data_job_related.JobDescription.astype(str)\n",
    "data_job_related.JobRequirment = data_job_related.JobRequirment.astype(str)\n",
    "data_job_related.RequiredQual = data_job_related.RequiredQual.astype(str)"
   ]
  },
  {
   "cell_type": "code",
   "execution_count": 16,
   "metadata": {},
   "outputs": [
    {
     "name": "stderr",
     "output_type": "stream",
     "text": [
      "C:\\Users\\Akhtar\\Anaconda3\\lib\\site-packages\\ipykernel_launcher.py:1: SettingWithCopyWarning: \n",
      "A value is trying to be set on a copy of a slice from a DataFrame.\n",
      "Try using .loc[row_indexer,col_indexer] = value instead\n",
      "\n",
      "See the caveats in the documentation: http://pandas.pydata.org/pandas-docs/stable/indexing.html#indexing-view-versus-copy\n",
      "  \"\"\"Entry point for launching an IPython kernel.\n"
     ]
    }
   ],
   "source": [
    "data_job_related[\"JobDescription_tokenize\"] = data_job_related[\"JobDescription\"].map(word_tokenize)"
   ]
  },
  {
   "cell_type": "code",
   "execution_count": 17,
   "metadata": {},
   "outputs": [
    {
     "name": "stderr",
     "output_type": "stream",
     "text": [
      "C:\\Users\\Akhtar\\Anaconda3\\lib\\site-packages\\ipykernel_launcher.py:1: SettingWithCopyWarning: \n",
      "A value is trying to be set on a copy of a slice from a DataFrame.\n",
      "Try using .loc[row_indexer,col_indexer] = value instead\n",
      "\n",
      "See the caveats in the documentation: http://pandas.pydata.org/pandas-docs/stable/indexing.html#indexing-view-versus-copy\n",
      "  \"\"\"Entry point for launching an IPython kernel.\n"
     ]
    }
   ],
   "source": [
    "data_job_related[\"JobRequirment_tokenize\"] = data_job_related.JobRequirment.map(word_tokenize)"
   ]
  },
  {
   "cell_type": "code",
   "execution_count": 18,
   "metadata": {},
   "outputs": [
    {
     "name": "stderr",
     "output_type": "stream",
     "text": [
      "C:\\Users\\Akhtar\\Anaconda3\\lib\\site-packages\\ipykernel_launcher.py:1: SettingWithCopyWarning: \n",
      "A value is trying to be set on a copy of a slice from a DataFrame.\n",
      "Try using .loc[row_indexer,col_indexer] = value instead\n",
      "\n",
      "See the caveats in the documentation: http://pandas.pydata.org/pandas-docs/stable/indexing.html#indexing-view-versus-copy\n",
      "  \"\"\"Entry point for launching an IPython kernel.\n"
     ]
    }
   ],
   "source": [
    "data_job_related[\"RequiredQual_tokenize\"] = data_job_related.RequiredQual.map(word_tokenize)"
   ]
  },
  {
   "cell_type": "code",
   "execution_count": 19,
   "metadata": {},
   "outputs": [
    {
     "name": "stderr",
     "output_type": "stream",
     "text": [
      "C:\\Users\\Akhtar\\Anaconda3\\lib\\site-packages\\ipykernel_launcher.py:2: SettingWithCopyWarning: \n",
      "A value is trying to be set on a copy of a slice from a DataFrame.\n",
      "Try using .loc[row_indexer,col_indexer] = value instead\n",
      "\n",
      "See the caveats in the documentation: http://pandas.pydata.org/pandas-docs/stable/indexing.html#indexing-view-versus-copy\n",
      "  \n",
      "C:\\Users\\Akhtar\\Anaconda3\\lib\\site-packages\\ipykernel_launcher.py:3: SettingWithCopyWarning: \n",
      "A value is trying to be set on a copy of a slice from a DataFrame.\n",
      "Try using .loc[row_indexer,col_indexer] = value instead\n",
      "\n",
      "See the caveats in the documentation: http://pandas.pydata.org/pandas-docs/stable/indexing.html#indexing-view-versus-copy\n",
      "  This is separate from the ipykernel package so we can avoid doing imports until\n",
      "C:\\Users\\Akhtar\\Anaconda3\\lib\\site-packages\\ipykernel_launcher.py:5: SettingWithCopyWarning: \n",
      "A value is trying to be set on a copy of a slice from a DataFrame.\n",
      "Try using .loc[row_indexer,col_indexer] = value instead\n",
      "\n",
      "See the caveats in the documentation: http://pandas.pydata.org/pandas-docs/stable/indexing.html#indexing-view-versus-copy\n",
      "  \"\"\"\n",
      "C:\\Users\\Akhtar\\Anaconda3\\lib\\site-packages\\ipykernel_launcher.py:6: SettingWithCopyWarning: \n",
      "A value is trying to be set on a copy of a slice from a DataFrame.\n",
      "Try using .loc[row_indexer,col_indexer] = value instead\n",
      "\n",
      "See the caveats in the documentation: http://pandas.pydata.org/pandas-docs/stable/indexing.html#indexing-view-versus-copy\n",
      "  \n",
      "C:\\Users\\Akhtar\\Anaconda3\\lib\\site-packages\\ipykernel_launcher.py:8: SettingWithCopyWarning: \n",
      "A value is trying to be set on a copy of a slice from a DataFrame.\n",
      "Try using .loc[row_indexer,col_indexer] = value instead\n",
      "\n",
      "See the caveats in the documentation: http://pandas.pydata.org/pandas-docs/stable/indexing.html#indexing-view-versus-copy\n",
      "  \n",
      "C:\\Users\\Akhtar\\Anaconda3\\lib\\site-packages\\ipykernel_launcher.py:9: SettingWithCopyWarning: \n",
      "A value is trying to be set on a copy of a slice from a DataFrame.\n",
      "Try using .loc[row_indexer,col_indexer] = value instead\n",
      "\n",
      "See the caveats in the documentation: http://pandas.pydata.org/pandas-docs/stable/indexing.html#indexing-view-versus-copy\n",
      "  if __name__ == '__main__':\n"
     ]
    }
   ],
   "source": [
    "# stopwords and punctuation removal for the 3 columns on the tokenized data \n",
    "data_job_related['JobDescription_tokenize'] = data_job_related['JobDescription_tokenize'].apply(lambda x: [item for item in x if item not in stop_words])\n",
    "data_job_related['JobDescription_tokenize'] = data_job_related['JobDescription_tokenize'].apply(lambda x: [item for item in x if item not in string.punctuation])\n",
    "\n",
    "data_job_related['RequiredQual_tokenize'] = data_job_related['RequiredQual_tokenize'].apply(lambda x: [item for item in x if item not in stop_words])\n",
    "data_job_related['RequiredQual_tokenize'] = data_job_related['RequiredQual_tokenize'].apply(lambda x: [item for item in x if item not in string.punctuation])\n",
    "\n",
    "data_job_related['JobRequirment_tokenize'] = data_job_related['JobRequirment_tokenize'].apply(lambda x: [item for item in x if item not in stop_words])\n",
    "data_job_related['JobRequirment_tokenize'] = data_job_related['JobRequirment_tokenize'].apply(lambda x: [item for item in x if item not in string.punctuation])"
   ]
  },
  {
   "cell_type": "code",
   "execution_count": 20,
   "metadata": {},
   "outputs": [
    {
     "name": "stderr",
     "output_type": "stream",
     "text": [
      "C:\\Users\\Akhtar\\Anaconda3\\lib\\site-packages\\ipykernel_launcher.py:2: SettingWithCopyWarning: \n",
      "A value is trying to be set on a copy of a slice from a DataFrame.\n",
      "Try using .loc[row_indexer,col_indexer] = value instead\n",
      "\n",
      "See the caveats in the documentation: http://pandas.pydata.org/pandas-docs/stable/indexing.html#indexing-view-versus-copy\n",
      "  \n",
      "C:\\Users\\Akhtar\\Anaconda3\\lib\\site-packages\\ipykernel_launcher.py:3: SettingWithCopyWarning: \n",
      "A value is trying to be set on a copy of a slice from a DataFrame.\n",
      "Try using .loc[row_indexer,col_indexer] = value instead\n",
      "\n",
      "See the caveats in the documentation: http://pandas.pydata.org/pandas-docs/stable/indexing.html#indexing-view-versus-copy\n",
      "  This is separate from the ipykernel package so we can avoid doing imports until\n",
      "C:\\Users\\Akhtar\\Anaconda3\\lib\\site-packages\\ipykernel_launcher.py:4: SettingWithCopyWarning: \n",
      "A value is trying to be set on a copy of a slice from a DataFrame.\n",
      "Try using .loc[row_indexer,col_indexer] = value instead\n",
      "\n",
      "See the caveats in the documentation: http://pandas.pydata.org/pandas-docs/stable/indexing.html#indexing-view-versus-copy\n",
      "  after removing the cwd from sys.path.\n"
     ]
    }
   ],
   "source": [
    "# lowercase\n",
    "data_job_related['JobDescription_tokenized'] = data_job_related['JobDescription_tokenize'].apply(lambda x: [item.lower() for item in x])\n",
    "data_job_related['RequiredQual_tokenized'] = data_job_related['RequiredQual_tokenize'].apply(lambda x: [item.lower() for item in x])\n",
    "data_job_related['JobRequirment_tokenized'] = data_job_related['JobRequirment_tokenize'].apply(lambda x: [item.lower() for item in x])"
   ]
  },
  {
   "cell_type": "code",
   "execution_count": 21,
   "metadata": {},
   "outputs": [
    {
     "name": "stderr",
     "output_type": "stream",
     "text": [
      "C:\\Users\\Akhtar\\Anaconda3\\lib\\site-packages\\ipykernel_launcher.py:2: SettingWithCopyWarning: \n",
      "A value is trying to be set on a copy of a slice from a DataFrame.\n",
      "Try using .loc[row_indexer,col_indexer] = value instead\n",
      "\n",
      "See the caveats in the documentation: http://pandas.pydata.org/pandas-docs/stable/indexing.html#indexing-view-versus-copy\n",
      "  \n",
      "C:\\Users\\Akhtar\\Anaconda3\\lib\\site-packages\\ipykernel_launcher.py:3: SettingWithCopyWarning: \n",
      "A value is trying to be set on a copy of a slice from a DataFrame.\n",
      "Try using .loc[row_indexer,col_indexer] = value instead\n",
      "\n",
      "See the caveats in the documentation: http://pandas.pydata.org/pandas-docs/stable/indexing.html#indexing-view-versus-copy\n",
      "  This is separate from the ipykernel package so we can avoid doing imports until\n",
      "C:\\Users\\Akhtar\\Anaconda3\\lib\\site-packages\\ipykernel_launcher.py:4: SettingWithCopyWarning: \n",
      "A value is trying to be set on a copy of a slice from a DataFrame.\n",
      "Try using .loc[row_indexer,col_indexer] = value instead\n",
      "\n",
      "See the caveats in the documentation: http://pandas.pydata.org/pandas-docs/stable/indexing.html#indexing-view-versus-copy\n",
      "  after removing the cwd from sys.path.\n"
     ]
    }
   ],
   "source": [
    "# stem\n",
    "data_job_related['JobDescription_tokenize'] = data_job_related['JobDescription_tokenize'].apply(lambda x: [PorterStemmer().stem(item) for item in x])\n",
    "data_job_related['RequiredQual_tokenize'] = data_job_related['RequiredQual_tokenize'].apply(lambda x: [PorterStemmer().stem(item) for item in x])\n",
    "data_job_related['JobRequirment_tokenize'] = data_job_related['JobRequirment_tokenize'].apply(lambda x: [PorterStemmer().stem(item) for item in x])"
   ]
  },
  {
   "cell_type": "code",
   "execution_count": 22,
   "metadata": {},
   "outputs": [
    {
     "name": "stderr",
     "output_type": "stream",
     "text": [
      "C:\\Users\\Akhtar\\Anaconda3\\lib\\site-packages\\ipykernel_launcher.py:2: SettingWithCopyWarning: \n",
      "A value is trying to be set on a copy of a slice from a DataFrame.\n",
      "Try using .loc[row_indexer,col_indexer] = value instead\n",
      "\n",
      "See the caveats in the documentation: http://pandas.pydata.org/pandas-docs/stable/indexing.html#indexing-view-versus-copy\n",
      "  \n",
      "C:\\Users\\Akhtar\\Anaconda3\\lib\\site-packages\\ipykernel_launcher.py:3: SettingWithCopyWarning: \n",
      "A value is trying to be set on a copy of a slice from a DataFrame.\n",
      "Try using .loc[row_indexer,col_indexer] = value instead\n",
      "\n",
      "See the caveats in the documentation: http://pandas.pydata.org/pandas-docs/stable/indexing.html#indexing-view-versus-copy\n",
      "  This is separate from the ipykernel package so we can avoid doing imports until\n",
      "C:\\Users\\Akhtar\\Anaconda3\\lib\\site-packages\\ipykernel_launcher.py:4: SettingWithCopyWarning: \n",
      "A value is trying to be set on a copy of a slice from a DataFrame.\n",
      "Try using .loc[row_indexer,col_indexer] = value instead\n",
      "\n",
      "See the caveats in the documentation: http://pandas.pydata.org/pandas-docs/stable/indexing.html#indexing-view-versus-copy\n",
      "  after removing the cwd from sys.path.\n"
     ]
    }
   ],
   "source": [
    "# convert list to string\n",
    "data_job_related['JobDescription_tokenize_str'] = data_job_related['JobDescription_tokenize'].apply(lambda x: \" \".join(x))\n",
    "data_job_related['RequiredQual_tokenize_str'] = data_job_related['RequiredQual_tokenize'].apply(lambda x: \" \".join(x))\n",
    "data_job_related['JobRequirment_tokenize_str'] = data_job_related['JobRequirment_tokenize'].apply(lambda x: \" \".join(x))"
   ]
  },
  {
   "cell_type": "code",
   "execution_count": 23,
   "metadata": {},
   "outputs": [
    {
     "data": {
      "text/html": [
       "<div>\n",
       "<style scoped>\n",
       "    .dataframe tbody tr th:only-of-type {\n",
       "        vertical-align: middle;\n",
       "    }\n",
       "\n",
       "    .dataframe tbody tr th {\n",
       "        vertical-align: top;\n",
       "    }\n",
       "\n",
       "    .dataframe thead th {\n",
       "        text-align: right;\n",
       "    }\n",
       "</style>\n",
       "<table border=\"1\" class=\"dataframe\">\n",
       "  <thead>\n",
       "    <tr style=\"text-align: right;\">\n",
       "      <th></th>\n",
       "      <th>Title</th>\n",
       "      <th>JobDescription</th>\n",
       "      <th>RequiredQual</th>\n",
       "      <th>JobRequirment</th>\n",
       "      <th>JobDescription_tokenize</th>\n",
       "      <th>JobRequirment_tokenize</th>\n",
       "      <th>RequiredQual_tokenize</th>\n",
       "      <th>JobDescription_tokenized</th>\n",
       "      <th>RequiredQual_tokenized</th>\n",
       "      <th>JobRequirment_tokenized</th>\n",
       "      <th>JobDescription_tokenize_str</th>\n",
       "      <th>RequiredQual_tokenize_str</th>\n",
       "      <th>JobRequirment_tokenize_str</th>\n",
       "    </tr>\n",
       "  </thead>\n",
       "  <tbody>\n",
       "    <tr>\n",
       "      <th>0</th>\n",
       "      <td>Chief Financial Officer</td>\n",
       "      <td>AMERIA Investment Consulting Company is seekin...</td>\n",
       "      <td>To perform this job successfully, an\\nindividu...</td>\n",
       "      <td>- Supervises financial management and administ...</td>\n",
       "      <td>[ameria, invest, consult, compani, seek, chief...</td>\n",
       "      <td>[supervis, financi, manag, administr, staff, i...</td>\n",
       "      <td>[To, perform, job, success, individu, must, ab...</td>\n",
       "      <td>[ameria, investment, consulting, company, seek...</td>\n",
       "      <td>[to, perform, job, successfully, individual, m...</td>\n",
       "      <td>[supervises, financial, management, administra...</td>\n",
       "      <td>ameria invest consult compani seek chief finan...</td>\n",
       "      <td>To perform job success individu must abl perfo...</td>\n",
       "      <td>supervis financi manag administr staff includ ...</td>\n",
       "    </tr>\n",
       "    <tr>\n",
       "      <th>1</th>\n",
       "      <td>Full-time Community Connections Intern (paid i...</td>\n",
       "      <td>nan</td>\n",
       "      <td>- Bachelor's Degree; Master's is preferred;\\n-...</td>\n",
       "      <td>nan</td>\n",
       "      <td>[nan]</td>\n",
       "      <td>[nan]</td>\n",
       "      <td>[bachelor, 's, degre, master, 's, prefer, exce...</td>\n",
       "      <td>[nan]</td>\n",
       "      <td>[bachelor, 's, degree, master, 's, preferred, ...</td>\n",
       "      <td>[nan]</td>\n",
       "      <td>nan</td>\n",
       "      <td>bachelor 's degre master 's prefer excel skill...</td>\n",
       "      <td>nan</td>\n",
       "    </tr>\n",
       "    <tr>\n",
       "      <th>2</th>\n",
       "      <td>Country Coordinator</td>\n",
       "      <td>Public outreach and strengthening of a growing...</td>\n",
       "      <td>- Degree in environmentally related field, or ...</td>\n",
       "      <td>- Working with the Country Director to provide...</td>\n",
       "      <td>[public, outreach, strengthen, grow, network, ...</td>\n",
       "      <td>[work, countri, director, provid, environment,...</td>\n",
       "      <td>[degre, environment, relat, field, 5, year, re...</td>\n",
       "      <td>[public, outreach, strengthening, growing, net...</td>\n",
       "      <td>[degree, environmentally, related, field, 5, y...</td>\n",
       "      <td>[working, country, director, provide, environm...</td>\n",
       "      <td>public outreach strengthen grow network enviro...</td>\n",
       "      <td>degre environment relat field 5 year relev exp...</td>\n",
       "      <td>work countri director provid environment infor...</td>\n",
       "    </tr>\n",
       "    <tr>\n",
       "      <th>3</th>\n",
       "      <td>BCC Specialist</td>\n",
       "      <td>The LEAD (Local Enhancement and Development fo...</td>\n",
       "      <td>- Advanced degree in public health, social sci...</td>\n",
       "      <td>- Identify gaps in knowledge and overseeing in...</td>\n",
       "      <td>[the, lead, local, enhanc, develop, health, bc...</td>\n",
       "      <td>[identifi, gap, knowledg, overse, inform, coll...</td>\n",
       "      <td>[advanc, degre, public, health, social, scienc...</td>\n",
       "      <td>[the, lead, local, enhancement, development, h...</td>\n",
       "      <td>[advanced, degree, public, health, social, sci...</td>\n",
       "      <td>[identify, gaps, knowledge, overseeing, inform...</td>\n",
       "      <td>the lead local enhanc develop health bcc speci...</td>\n",
       "      <td>advanc degre public health social scienc commu...</td>\n",
       "      <td>identifi gap knowledg overse inform collect fi...</td>\n",
       "    </tr>\n",
       "    <tr>\n",
       "      <th>4</th>\n",
       "      <td>Software Developer</td>\n",
       "      <td>nan</td>\n",
       "      <td>- University degree; economical background is ...</td>\n",
       "      <td>- Rendering technical assistance to Database M...</td>\n",
       "      <td>[nan]</td>\n",
       "      <td>[render, technic, assist, databas, manag, syst...</td>\n",
       "      <td>[univers, degre, econom, background, plu, exce...</td>\n",
       "      <td>[nan]</td>\n",
       "      <td>[university, degree, economical, background, p...</td>\n",
       "      <td>[rendering, technical, assistance, database, m...</td>\n",
       "      <td>nan</td>\n",
       "      <td>univers degre econom background plu excel know...</td>\n",
       "      <td>render technic assist databas manag system rea...</td>\n",
       "    </tr>\n",
       "  </tbody>\n",
       "</table>\n",
       "</div>"
      ],
      "text/plain": [
       "                                               Title  \\\n",
       "0                            Chief Financial Officer   \n",
       "1  Full-time Community Connections Intern (paid i...   \n",
       "2                                Country Coordinator   \n",
       "3                                     BCC Specialist   \n",
       "4                                 Software Developer   \n",
       "\n",
       "                                      JobDescription  \\\n",
       "0  AMERIA Investment Consulting Company is seekin...   \n",
       "1                                                nan   \n",
       "2  Public outreach and strengthening of a growing...   \n",
       "3  The LEAD (Local Enhancement and Development fo...   \n",
       "4                                                nan   \n",
       "\n",
       "                                        RequiredQual  \\\n",
       "0  To perform this job successfully, an\\nindividu...   \n",
       "1  - Bachelor's Degree; Master's is preferred;\\n-...   \n",
       "2  - Degree in environmentally related field, or ...   \n",
       "3  - Advanced degree in public health, social sci...   \n",
       "4  - University degree; economical background is ...   \n",
       "\n",
       "                                       JobRequirment  \\\n",
       "0  - Supervises financial management and administ...   \n",
       "1                                                nan   \n",
       "2  - Working with the Country Director to provide...   \n",
       "3  - Identify gaps in knowledge and overseeing in...   \n",
       "4  - Rendering technical assistance to Database M...   \n",
       "\n",
       "                             JobDescription_tokenize  \\\n",
       "0  [ameria, invest, consult, compani, seek, chief...   \n",
       "1                                              [nan]   \n",
       "2  [public, outreach, strengthen, grow, network, ...   \n",
       "3  [the, lead, local, enhanc, develop, health, bc...   \n",
       "4                                              [nan]   \n",
       "\n",
       "                              JobRequirment_tokenize  \\\n",
       "0  [supervis, financi, manag, administr, staff, i...   \n",
       "1                                              [nan]   \n",
       "2  [work, countri, director, provid, environment,...   \n",
       "3  [identifi, gap, knowledg, overse, inform, coll...   \n",
       "4  [render, technic, assist, databas, manag, syst...   \n",
       "\n",
       "                               RequiredQual_tokenize  \\\n",
       "0  [To, perform, job, success, individu, must, ab...   \n",
       "1  [bachelor, 's, degre, master, 's, prefer, exce...   \n",
       "2  [degre, environment, relat, field, 5, year, re...   \n",
       "3  [advanc, degre, public, health, social, scienc...   \n",
       "4  [univers, degre, econom, background, plu, exce...   \n",
       "\n",
       "                            JobDescription_tokenized  \\\n",
       "0  [ameria, investment, consulting, company, seek...   \n",
       "1                                              [nan]   \n",
       "2  [public, outreach, strengthening, growing, net...   \n",
       "3  [the, lead, local, enhancement, development, h...   \n",
       "4                                              [nan]   \n",
       "\n",
       "                              RequiredQual_tokenized  \\\n",
       "0  [to, perform, job, successfully, individual, m...   \n",
       "1  [bachelor, 's, degree, master, 's, preferred, ...   \n",
       "2  [degree, environmentally, related, field, 5, y...   \n",
       "3  [advanced, degree, public, health, social, sci...   \n",
       "4  [university, degree, economical, background, p...   \n",
       "\n",
       "                             JobRequirment_tokenized  \\\n",
       "0  [supervises, financial, management, administra...   \n",
       "1                                              [nan]   \n",
       "2  [working, country, director, provide, environm...   \n",
       "3  [identify, gaps, knowledge, overseeing, inform...   \n",
       "4  [rendering, technical, assistance, database, m...   \n",
       "\n",
       "                         JobDescription_tokenize_str  \\\n",
       "0  ameria invest consult compani seek chief finan...   \n",
       "1                                                nan   \n",
       "2  public outreach strengthen grow network enviro...   \n",
       "3  the lead local enhanc develop health bcc speci...   \n",
       "4                                                nan   \n",
       "\n",
       "                           RequiredQual_tokenize_str  \\\n",
       "0  To perform job success individu must abl perfo...   \n",
       "1  bachelor 's degre master 's prefer excel skill...   \n",
       "2  degre environment relat field 5 year relev exp...   \n",
       "3  advanc degre public health social scienc commu...   \n",
       "4  univers degre econom background plu excel know...   \n",
       "\n",
       "                          JobRequirment_tokenize_str  \n",
       "0  supervis financi manag administr staff includ ...  \n",
       "1                                                nan  \n",
       "2  work countri director provid environment infor...  \n",
       "3  identifi gap knowledg overse inform collect fi...  \n",
       "4  render technic assist databas manag system rea...  "
      ]
     },
     "execution_count": 23,
     "metadata": {},
     "output_type": "execute_result"
    }
   ],
   "source": [
    "data_job_related.head()"
   ]
  },
  {
   "cell_type": "markdown",
   "metadata": {},
   "source": [
    "###  Similarity of Jobs based on TF-IDF"
   ]
  },
  {
   "cell_type": "raw",
   "metadata": {},
   "source": [
    "IMP. NOTES ON COSINE SIMILARITY  :\n",
    "-------------------------------\n",
    "1. In practice, cosine similarity tends to be useful when trying to determine how similar two texts/documents are.\n",
    "2. Cosine similarity works in these usecases because we ignore magnitude and focus solely on orientation.\n",
    "3. In NLP, this might help us still detect that a much longer document has the same “theme” as a much shorter \n",
    "   document since we don’t worry about the magnitude or the “length” of the documents themselves.\n",
    "4. Intuitively, let’s say we have 2 vectors, each representing a sentence. If the vectors are close to parallel, maybe we       assume that both sentences are “similar” in theme. Whereas if the vectors are orthogonal, then we assume the sentences are independent or NOT “similar”. Depending on your usecase, maybe you want to find very similar documents or very different documents, so you compute the cosine similarity.\n",
    "5. A . B = ||A|| ||B|| cos (theta)\n",
    "   if theta is 0 ,then cos 90 = 0 , which says , they are dissimilar.\n",
    "   and if the theta is close to 1 , then they are parallel and hence , can be similar."
   ]
  },
  {
   "cell_type": "code",
   "execution_count": 24,
   "metadata": {},
   "outputs": [],
   "source": [
    "tfidf_model = TfidfVectorizer()"
   ]
  },
  {
   "cell_type": "code",
   "execution_count": 25,
   "metadata": {},
   "outputs": [],
   "source": [
    "Title_tfidf = tfidf_model.fit_transform(data_job_related['Title'])\n",
    "JobDescription_tfidf = tfidf_model.fit_transform(data_job_related['JobDescription_tokenize_str'])\n",
    "RequiredQual_tfidf = tfidf_model.fit_transform(data_job_related['RequiredQual_tokenize_str'])\n",
    "JobRequirment_tfidf = tfidf_model.fit_transform(data_job_related['JobRequirment_tokenize_str'])"
   ]
  },
  {
   "cell_type": "raw",
   "metadata": {},
   "source": [
    "numpy.ndarray.flatten()\n",
    "--> Return a copy of the array collapsed into one dimension."
   ]
  },
  {
   "cell_type": "code",
   "execution_count": 44,
   "metadata": {},
   "outputs": [],
   "source": [
    "def find_similar_jobs_tfidf(index, top_n = 5):\n",
    "    Title_tfidf_cosine = cosine_similarity(Title_tfidf[index:index+1], Title_tfidf).flatten()\n",
    "    JobDescription_tfidf_cosine = cosine_similarity(JobDescription_tfidf[index:index+1], JobDescription_tfidf).flatten()\n",
    "    RequiredQual_tfidf_cosine = cosine_similarity(RequiredQual_tfidf[index:index+1], RequiredQual_tfidf).flatten()\n",
    "    JobRequirment_tfidf_cosine = cosine_similarity(JobRequirment_tfidf[index:index+1], JobRequirment_tfidf).flatten()\n",
    "\n",
    "    average_cosine = (Title_tfidf_cosine + JobDescription_tfidf_cosine + RequiredQual_tfidf_cosine + JobRequirment_tfidf_cosine) / 4.0\n",
    "    #print(average_cosine)\n",
    "    related_docs_indices = [i for i in average_cosine.argsort()[::-1] if i != index]\n",
    "    return [(index, average_cosine[index]) for index in related_docs_indices][0:top_n]"
   ]
  },
  {
   "cell_type": "code",
   "execution_count": 38,
   "metadata": {},
   "outputs": [
    {
     "data": {
      "text/plain": [
       "485.60260096356427"
      ]
     },
     "execution_count": 38,
     "metadata": {},
     "output_type": "execute_result"
    }
   ],
   "source": [
    "cosine_similarity(Title_tfidf[0:1],Title_tfidf).flatten().sum()"
   ]
  },
  {
   "cell_type": "code",
   "execution_count": 47,
   "metadata": {},
   "outputs": [
    {
     "data": {
      "text/plain": [
       "<18892x2966 sparse matrix of type '<class 'numpy.float64'>'\n",
       "\twith 60174 stored elements in Compressed Sparse Row format>"
      ]
     },
     "execution_count": 47,
     "metadata": {},
     "output_type": "execute_result"
    }
   ],
   "source": [
    "Title_tfidf  # 18892"
   ]
  },
  {
   "cell_type": "code",
   "execution_count": 45,
   "metadata": {},
   "outputs": [
    {
     "data": {
      "text/plain": [
       "Title                                                    Chief Financial Officer\n",
       "JobDescription                 AMERIA Investment Consulting Company is seekin...\n",
       "RequiredQual                   To perform this job successfully, an\\nindividu...\n",
       "JobRequirment                  - Supervises financial management and administ...\n",
       "JobDescription_tokenize        [ameria, invest, consult, compani, seek, chief...\n",
       "JobRequirment_tokenize         [supervis, financi, manag, administr, staff, i...\n",
       "RequiredQual_tokenize          [To, perform, job, success, individu, must, ab...\n",
       "JobDescription_tokenized       [ameria, investment, consulting, company, seek...\n",
       "RequiredQual_tokenized         [to, perform, job, successfully, individual, m...\n",
       "JobRequirment_tokenized        [supervises, financial, management, administra...\n",
       "JobDescription_tokenize_str    ameria invest consult compani seek chief finan...\n",
       "RequiredQual_tokenize_str      To perform job success individu must abl perfo...\n",
       "JobRequirment_tokenize_str     supervis financi manag administr staff includ ...\n",
       "Name: 0, dtype: object"
      ]
     },
     "execution_count": 45,
     "metadata": {},
     "output_type": "execute_result"
    }
   ],
   "source": [
    "data_job_related.iloc[0]"
   ]
  },
  {
   "cell_type": "code",
   "execution_count": 46,
   "metadata": {},
   "outputs": [
    {
     "name": "stdout",
     "output_type": "stream",
     "text": [
      "Title                                                    Chief Financial Officer\n",
      "JobDescription                 River Island is seeking a Chief Financial Offi...\n",
      "RequiredQual                   - Master's degree in Management, Finance or Ec...\n",
      "JobRequirment                  - Develop tools and systems to provide critica...\n",
      "JobDescription_tokenize        [river, island, seek, chief, financi, offic, r...\n",
      "JobRequirment_tokenize         [develop, tool, system, provid, critic, financ...\n",
      "RequiredQual_tokenize          [master, 's, degre, manag, financ, econom, At,...\n",
      "JobDescription_tokenized       [river, island, seeking, chief, financial, off...\n",
      "RequiredQual_tokenized         [master, 's, degree, management, finance, econ...\n",
      "JobRequirment_tokenized        [develop, tools, systems, provide, critical, f...\n",
      "JobDescription_tokenize_str    river island seek chief financi offic respons ...\n",
      "RequiredQual_tokenize_str      master 's degre manag financ econom At least 5...\n",
      "JobRequirment_tokenize_str     develop tool system provid critic financi oper...\n",
      "Name: 11223, dtype: object\n",
      "SIMILARITY SCORE:  0.4898332490345752\n",
      "Title                                                    Chief Financial Officer\n",
      "JobDescription                 Armenian Datacom Company (ADC) is seeking a hi...\n",
      "RequiredQual                   - Master's degree in Accounting, Finance;\\n- 5...\n",
      "JobRequirment                  Responsibilities include but are not limited t...\n",
      "JobDescription_tokenize        [armenian, datacom, compani, adc, seek, highli...\n",
      "JobRequirment_tokenize         [respons, includ, limit, assist, perform, fina...\n",
      "RequiredQual_tokenize          [master, 's, degre, account, financ, 5-7, year...\n",
      "JobDescription_tokenized       [armenian, datacom, company, adc, seeking, hig...\n",
      "RequiredQual_tokenized         [master, 's, degree, accounting, finance, 5-7,...\n",
      "JobRequirment_tokenized        [responsibilities, include, limited, assist, p...\n",
      "JobDescription_tokenize_str    armenian datacom compani adc seek highli motiv...\n",
      "RequiredQual_tokenize_str      master 's degre account financ 5-7 year financ...\n",
      "JobRequirment_tokenize_str     respons includ limit assist perform financi ta...\n",
      "Name: 8319, dtype: object\n",
      "SIMILARITY SCORE:  0.4888446860993517\n",
      "Title                                                    Chief Financial Officer\n",
      "JobDescription                 The Chief Financial Officer (CFO) will support...\n",
      "RequiredQual                   - Degree in Accounting, Finance, Business, Law...\n",
      "JobRequirment                  Financial management of the NSRCIP T1 & T2 pro...\n",
      "JobDescription_tokenize        [the, chief, financi, offic, cfo, support, chi...\n",
      "JobRequirment_tokenize         [financi, manag, nsrcip, T1, T2, project, prep...\n",
      "RequiredQual_tokenize          [degre, account, financ, busi, law, public, ad...\n",
      "JobDescription_tokenized       [the, chief, financial, officer, cfo, support,...\n",
      "RequiredQual_tokenized         [degree, accounting, finance, business, law, p...\n",
      "JobRequirment_tokenized        [financial, management, nsrcip, t1, t2, projec...\n",
      "JobDescription_tokenize_str    the chief financi offic cfo support chief exec...\n",
      "RequiredQual_tokenize_str      degre account financ busi law public administr...\n",
      "JobRequirment_tokenize_str     financi manag nsrcip T1 T2 project prepar pfr ...\n",
      "Name: 12368, dtype: object\n",
      "SIMILARITY SCORE:  0.48082897033404925\n",
      "Title                                                    Chief Financial Officer\n",
      "JobDescription                 Gritti LLC is inviting highly qualified\\nprofe...\n",
      "RequiredQual                   - Master's or equivalent university degree in ...\n",
      "JobRequirment                  General Responsibilities:   \\n- Assist in perf...\n",
      "JobDescription_tokenize        [gritti, llc, invit, highli, qualifi, professi...\n",
      "JobRequirment_tokenize         [gener, respons, assist, perform, task, necess...\n",
      "RequiredQual_tokenize          [master, 's, equival, univers, degre, financ, ...\n",
      "JobDescription_tokenized       [gritti, llc, inviting, highly, qualified, pro...\n",
      "RequiredQual_tokenized         [master, 's, equivalent, university, degree, f...\n",
      "JobRequirment_tokenized        [general, responsibilities, assist, performing...\n",
      "JobDescription_tokenize_str    gritti llc invit highli qualifi profession ful...\n",
      "RequiredQual_tokenize_str      master 's equival univers degre financ account...\n",
      "JobRequirment_tokenize_str     gener respons assist perform task necessari ac...\n",
      "Name: 8120, dtype: object\n",
      "SIMILARITY SCORE:  0.4737139052865472\n",
      "Title                                              Chief Financial Officer (CFO)\n",
      "JobDescription                 The CFO will have full authority and responsib...\n",
      "RequiredQual                   - Master's degree in Business Administration, ...\n",
      "JobRequirment                  - Ensure compliance and deal with local, state...\n",
      "JobDescription_tokenize        [the, cfo, full, author, respons, establish, m...\n",
      "JobRequirment_tokenize         [ensur, complianc, deal, local, state, tax, fi...\n",
      "RequiredQual_tokenize          [master, 's, degre, busi, administr, financ, a...\n",
      "JobDescription_tokenized       [the, cfo, full, authority, responsibility, es...\n",
      "RequiredQual_tokenized         [master, 's, degree, business, administration,...\n",
      "JobRequirment_tokenized        [ensure, compliance, deal, local, state, tax, ...\n",
      "JobDescription_tokenize_str    the cfo full author respons establish mean man...\n",
      "RequiredQual_tokenize_str      master 's degre busi administr financ account ...\n",
      "JobRequirment_tokenize_str     ensur complianc deal local state tax financ re...\n",
      "Name: 5844, dtype: object\n",
      "SIMILARITY SCORE:  0.4647738182331448\n"
     ]
    }
   ],
   "source": [
    "for index, score in find_similar_jobs_tfidf(0): # average_cosine in the above function is returning the score\n",
    "    print(data_job_related.iloc[index])         \n",
    "    print(\"SIMILARITY SCORE: \", score)\n",
    "# The Tf-idfVectorizer function is applied on the respective columns without any conditions in them.\n",
    "# After applying fit_transform of this vectorizer to the columns ,then we are applying cosine similarity on them.\n",
    "# We are calculating cosine silmilarity for the given index (lets say, 0th index) with the rest all rows or documents in that\n",
    "# particular column.\n",
    "# The cosine similarity is giving us a numerical value between the 0th index and rest all other rows and we have filtered the\n",
    "# the best similarity as top_n = 5."
   ]
  },
  {
   "cell_type": "code",
   "execution_count": 34,
   "metadata": {},
   "outputs": [
    {
     "data": {
      "text/plain": [
       "Title                          Full-time Community Connections Intern (paid i...\n",
       "JobDescription                                                               nan\n",
       "RequiredQual                   - Bachelor's Degree; Master's is preferred;\\n-...\n",
       "JobRequirment                                                                nan\n",
       "JobDescription_tokenize                                                    [nan]\n",
       "JobRequirment_tokenize                                                     [nan]\n",
       "RequiredQual_tokenize          [bachelor, 's, degre, master, 's, prefer, exce...\n",
       "JobDescription_tokenized                                                   [nan]\n",
       "RequiredQual_tokenized         [bachelor, 's, degree, master, 's, preferred, ...\n",
       "JobRequirment_tokenized                                                    [nan]\n",
       "JobDescription_tokenize_str                                                  nan\n",
       "RequiredQual_tokenize_str      bachelor 's degre master 's prefer excel skill...\n",
       "JobRequirment_tokenize_str                                                   nan\n",
       "Name: 1, dtype: object"
      ]
     },
     "execution_count": 34,
     "metadata": {},
     "output_type": "execute_result"
    }
   ],
   "source": [
    "data_job_related.iloc[1]"
   ]
  },
  {
   "cell_type": "code",
   "execution_count": 35,
   "metadata": {},
   "outputs": [
    {
     "name": "stdout",
     "output_type": "stream",
     "text": [
      "Title                                                    IT Teacher  (full time)\n",
      "JobDescription                                                               nan\n",
      "RequiredQual                   - Degree in Computer Science, Information Tech...\n",
      "JobRequirment                                                                nan\n",
      "JobDescription_tokenize                                                    [nan]\n",
      "JobRequirment_tokenize                                                     [nan]\n",
      "RequiredQual_tokenize          [degre, comput, scienc, inform, technolog, rel...\n",
      "JobDescription_tokenized                                                   [nan]\n",
      "RequiredQual_tokenized         [degree, computer, science, information, techn...\n",
      "JobRequirment_tokenized                                                    [nan]\n",
      "JobDescription_tokenize_str                                                  nan\n",
      "RequiredQual_tokenize_str      degre comput scienc inform technolog relat dis...\n",
      "JobRequirment_tokenize_str                                                   nan\n",
      "Name: 114, dtype: object\n",
      "SIMILARITY SCORE:  0.6631658107959908\n",
      "Title                          Non-paid part or full time Administrative Intern\n",
      "JobDescription                                                              nan\n",
      "RequiredQual                                                                nan\n",
      "JobRequirment                                                               nan\n",
      "JobDescription_tokenize                                                   [nan]\n",
      "JobRequirment_tokenize                                                    [nan]\n",
      "RequiredQual_tokenize                                                     [nan]\n",
      "JobDescription_tokenized                                                  [nan]\n",
      "RequiredQual_tokenized                                                    [nan]\n",
      "JobRequirment_tokenized                                                   [nan]\n",
      "JobDescription_tokenize_str                                                 nan\n",
      "RequiredQual_tokenize_str                                                   nan\n",
      "JobRequirment_tokenize_str                                                  nan\n",
      "Name: 11, dtype: object\n",
      "SIMILARITY SCORE:  0.6341171085548505\n",
      "Title                                     Administrative and Programmatic Intern\n",
      "JobDescription                                                               nan\n",
      "RequiredQual                   - Fluency in English and Armenian;\\n- Good com...\n",
      "JobRequirment                                                                nan\n",
      "JobDescription_tokenize                                                    [nan]\n",
      "JobRequirment_tokenize                                                     [nan]\n",
      "RequiredQual_tokenize          [fluenci, english, armenian, good, commun, ski...\n",
      "JobDescription_tokenized                                                   [nan]\n",
      "RequiredQual_tokenized         [fluency, english, armenian, good, communicati...\n",
      "JobRequirment_tokenized                                                    [nan]\n",
      "JobDescription_tokenize_str                                                  nan\n",
      "RequiredQual_tokenize_str      fluenci english armenian good commun skill abi...\n",
      "JobRequirment_tokenize_str                                                   nan\n",
      "Name: 127, dtype: object\n",
      "SIMILARITY SCORE:  0.6269758043940998\n",
      "Title                                     Administrative and Programmatic Intern\n",
      "JobDescription                                                               nan\n",
      "RequiredQual                   - Fluency in English and Armenian;\\n- Good com...\n",
      "JobRequirment                                                                nan\n",
      "JobDescription_tokenize                                                    [nan]\n",
      "JobRequirment_tokenize                                                     [nan]\n",
      "RequiredQual_tokenize          [fluenci, english, armenian, good, commun, ski...\n",
      "JobDescription_tokenized                                                   [nan]\n",
      "RequiredQual_tokenized         [fluency, english, armenian, good, communicati...\n",
      "JobRequirment_tokenized                                                    [nan]\n",
      "JobDescription_tokenize_str                                                  nan\n",
      "RequiredQual_tokenize_str      fluenci english armenian good commun skill abi...\n",
      "JobRequirment_tokenize_str                                                   nan\n",
      "Name: 125, dtype: object\n",
      "SIMILARITY SCORE:  0.6269758043940998\n",
      "Title                          Non-paid part or full time Programmatic Intern\n",
      "JobDescription                                                            nan\n",
      "RequiredQual                                                              nan\n",
      "JobRequirment                                                             nan\n",
      "JobDescription_tokenize                                                 [nan]\n",
      "JobRequirment_tokenize                                                  [nan]\n",
      "RequiredQual_tokenize                                                   [nan]\n",
      "JobDescription_tokenized                                                [nan]\n",
      "RequiredQual_tokenized                                                  [nan]\n",
      "JobRequirment_tokenized                                                 [nan]\n",
      "JobDescription_tokenize_str                                               nan\n",
      "RequiredQual_tokenize_str                                                 nan\n",
      "JobRequirment_tokenize_str                                                nan\n",
      "Name: 7, dtype: object\n",
      "SIMILARITY SCORE:  0.6259732089860925\n"
     ]
    }
   ],
   "source": [
    "for index, score in find_similar_jobs_tfidf(1):\n",
    "    print(data_job_related.iloc[index])\n",
    "    print(\"SIMILARITY SCORE: \", score)"
   ]
  },
  {
   "cell_type": "code",
   "execution_count": 36,
   "metadata": {},
   "outputs": [
    {
     "data": {
      "text/plain": [
       "Title                                                        Country Coordinator\n",
       "JobDescription                 Public outreach and strengthening of a growing...\n",
       "RequiredQual                   - Degree in environmentally related field, or ...\n",
       "JobRequirment                  - Working with the Country Director to provide...\n",
       "JobDescription_tokenize        [public, outreach, strengthen, grow, network, ...\n",
       "JobRequirment_tokenize         [work, countri, director, provid, environment,...\n",
       "RequiredQual_tokenize          [degre, environment, relat, field, 5, year, re...\n",
       "JobDescription_tokenized       [public, outreach, strengthening, growing, net...\n",
       "RequiredQual_tokenized         [degree, environmentally, related, field, 5, y...\n",
       "JobRequirment_tokenized        [working, country, director, provide, environm...\n",
       "JobDescription_tokenize_str    public outreach strengthen grow network enviro...\n",
       "RequiredQual_tokenize_str      degre environment relat field 5 year relev exp...\n",
       "JobRequirment_tokenize_str     work countri director provid environment infor...\n",
       "Name: 2, dtype: object"
      ]
     },
     "execution_count": 36,
     "metadata": {},
     "output_type": "execute_result"
    }
   ],
   "source": [
    "data_job_related.iloc[2]"
   ]
  },
  {
   "cell_type": "code",
   "execution_count": 37,
   "metadata": {},
   "outputs": [
    {
     "name": "stdout",
     "output_type": "stream",
     "text": [
      "Title                                              Country Coordinator - Armenia\n",
      "JobDescription                 CENN - Caucasus Environmental NGO Network - is...\n",
      "RequiredQual                   1. Education: University education in environm...\n",
      "JobRequirment                  -  Write first hand articles, conduct intervie...\n",
      "JobDescription_tokenize        [cenn, caucasu, environment, ngo, network, loo...\n",
      "JobRequirment_tokenize         [write, first, hand, articl, conduct, intervie...\n",
      "RequiredQual_tokenize          [1, educ, univers, educ, environment, scienc, ...\n",
      "JobDescription_tokenized       [cenn, caucasus, environmental, ngo, network, ...\n",
      "RequiredQual_tokenized         [1, education, university, education, environm...\n",
      "JobRequirment_tokenized        [write, first, hand, articles, conduct, interv...\n",
      "JobDescription_tokenize_str    cenn caucasu environment ngo network look coun...\n",
      "RequiredQual_tokenize_str      1 educ univers educ environment scienc relat f...\n",
      "JobRequirment_tokenize_str     write first hand articl conduct interview coll...\n",
      "Name: 404, dtype: object\n",
      "SIMILARITY SCORE:  0.4585866205098281\n",
      "Title                                                        Country Coordinator\n",
      "JobDescription                 Veya Limited needs an experienced Business Man...\n",
      "RequiredQual                   - University degree in Middle East Studies, In...\n",
      "JobRequirment                  - Coordinate activities of the office and staf...\n",
      "JobDescription_tokenize        [veya, limit, need, experienc, busi, manag, co...\n",
      "JobRequirment_tokenize         [coordin, activ, offic, staff, middl, east, co...\n",
      "RequiredQual_tokenize          [univers, degre, middl, east, studi, intern, a...\n",
      "JobDescription_tokenized       [veya, limited, needs, experienced, business, ...\n",
      "RequiredQual_tokenized         [university, degree, middle, east, studies, in...\n",
      "JobRequirment_tokenized        [coordinate, activities, office, staff, middle...\n",
      "JobDescription_tokenize_str    veya limit need experienc busi manag coordin s...\n",
      "RequiredQual_tokenize_str      univers degre middl east studi intern affair b...\n",
      "JobRequirment_tokenize_str     coordin activ offic staff middl east countri e...\n",
      "Name: 13497, dtype: object\n",
      "SIMILARITY SCORE:  0.29600227041847776\n",
      "Title                                                  Environmental Coordinator\n",
      "JobDescription                 The Environmental Coordinator performs a\\ncros...\n",
      "RequiredQual                   - Higher education in Economics, Technical fie...\n",
      "JobRequirment                  - Organize Environmental Committee meetings, c...\n",
      "JobDescription_tokenize        [the, environment, coordin, perform, cross-sec...\n",
      "JobRequirment_tokenize         [organ, environment, committe, meet, coordin, ...\n",
      "RequiredQual_tokenize          [higher, educ, econom, technic, field, ecolog,...\n",
      "JobDescription_tokenized       [the, environmental, coordinator, performs, cr...\n",
      "RequiredQual_tokenized         [higher, education, economics, technical, fiel...\n",
      "JobRequirment_tokenized        [organize, environmental, committee, meetings,...\n",
      "JobDescription_tokenize_str    the environment coordin perform cross-sect fun...\n",
      "RequiredQual_tokenize_str      higher educ econom technic field ecolog experi...\n",
      "JobRequirment_tokenize_str     organ environment committe meet coordin superv...\n",
      "Name: 10789, dtype: object\n",
      "SIMILARITY SCORE:  0.279584135650675\n",
      "Title                                                        Country Coordinator\n",
      "JobDescription                 Veya Ltd. is looking for a qualified Country\\n...\n",
      "RequiredQual                   - At least 5 years of experience in project ma...\n",
      "JobRequirment                  - Negotiate with potential customers;\\n- Lobby...\n",
      "JobDescription_tokenize        [veya, ltd., look, qualifi, countri, coordin, ...\n",
      "JobRequirment_tokenize         [negoti, potenti, custom, lobbi, support, proj...\n",
      "RequiredQual_tokenize          [At, least, 5, year, experi, project, manag, e...\n",
      "JobDescription_tokenized       [veya, ltd., looking, qualified, country, coor...\n",
      "RequiredQual_tokenized         [at, least, 5, years, experience, project, man...\n",
      "JobRequirment_tokenized        [negotiate, potential, customers, lobby, suppo...\n",
      "JobDescription_tokenize_str    veya ltd. look qualifi countri coordin he/ abl...\n",
      "RequiredQual_tokenize_str      At least 5 year experi project manag except ne...\n",
      "JobRequirment_tokenize_str     negoti potenti custom lobbi support project co...\n",
      "Name: 18907, dtype: object\n",
      "SIMILARITY SCORE:  0.2727622198362754\n",
      "Title                                                                  Volunteer\n",
      "JobDescription                 We are seeking university students/ recent gra...\n",
      "RequiredQual                   - Fluency in Armenian, Russian and English\\n- ...\n",
      "JobRequirment                  - Assist CENN Armenia Country Coordinator with...\n",
      "JobDescription_tokenize        [We, seek, univers, students/, recent, graduat...\n",
      "JobRequirment_tokenize         [assist, cenn, armenia, countri, coordin, admi...\n",
      "RequiredQual_tokenize          [fluenci, armenian, russian, english, good, co...\n",
      "JobDescription_tokenized       [we, seeking, university, students/, recent, g...\n",
      "RequiredQual_tokenized         [fluency, armenian, russian, english, good, co...\n",
      "JobRequirment_tokenized        [assist, cenn, armenia, country, coordinator, ...\n",
      "JobDescription_tokenize_str    We seek univers students/ recent graduat energ...\n",
      "RequiredQual_tokenize_str      fluenci armenian russian english good communic...\n",
      "JobRequirment_tokenize_str     assist cenn armenia countri coordin adminstr t...\n",
      "Name: 567, dtype: object\n",
      "SIMILARITY SCORE:  0.23618800488221392\n"
     ]
    }
   ],
   "source": [
    "for index, score in find_similar_jobs_tfidf(2):\n",
    "    print(data_job_related.iloc[index])\n",
    "    print(\"SIMILARITY SCORE: \", score)"
   ]
  },
  {
   "cell_type": "code",
   "execution_count": null,
   "metadata": {},
   "outputs": [],
   "source": []
  }
 ],
 "metadata": {
  "kernelspec": {
   "display_name": "Python 3",
   "language": "python",
   "name": "python3"
  },
  "language_info": {
   "codemirror_mode": {
    "name": "ipython",
    "version": 3
   },
   "file_extension": ".py",
   "mimetype": "text/x-python",
   "name": "python",
   "nbconvert_exporter": "python",
   "pygments_lexer": "ipython3",
   "version": "3.7.1"
  }
 },
 "nbformat": 4,
 "nbformat_minor": 2
}
